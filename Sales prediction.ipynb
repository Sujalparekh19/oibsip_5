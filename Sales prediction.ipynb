{
 "cells": [
  {
   "cell_type": "code",
   "execution_count": 1,
   "id": "ed4afae2",
   "metadata": {},
   "outputs": [],
   "source": [
    "import pandas as pd\n",
    "import numpy as np\n",
    "import matplotlib.pyplot as plt\n",
    "import seaborn as sns\n",
    "import warnings\n",
    "warnings.filterwarnings('ignore')"
   ]
  },
  {
   "cell_type": "code",
   "execution_count": 2,
   "id": "e9ebb6af",
   "metadata": {},
   "outputs": [],
   "source": [
    "df = pd.read_csv('Advertising.csv')"
   ]
  },
  {
   "cell_type": "code",
   "execution_count": 3,
   "id": "affbb342",
   "metadata": {},
   "outputs": [
    {
     "data": {
      "text/html": [
       "<div>\n",
       "<style scoped>\n",
       "    .dataframe tbody tr th:only-of-type {\n",
       "        vertical-align: middle;\n",
       "    }\n",
       "\n",
       "    .dataframe tbody tr th {\n",
       "        vertical-align: top;\n",
       "    }\n",
       "\n",
       "    .dataframe thead th {\n",
       "        text-align: right;\n",
       "    }\n",
       "</style>\n",
       "<table border=\"1\" class=\"dataframe\">\n",
       "  <thead>\n",
       "    <tr style=\"text-align: right;\">\n",
       "      <th></th>\n",
       "      <th>Unnamed: 0</th>\n",
       "      <th>TV</th>\n",
       "      <th>Radio</th>\n",
       "      <th>Newspaper</th>\n",
       "      <th>Sales</th>\n",
       "    </tr>\n",
       "  </thead>\n",
       "  <tbody>\n",
       "    <tr>\n",
       "      <th>0</th>\n",
       "      <td>1</td>\n",
       "      <td>230.1</td>\n",
       "      <td>37.8</td>\n",
       "      <td>69.2</td>\n",
       "      <td>22.1</td>\n",
       "    </tr>\n",
       "    <tr>\n",
       "      <th>1</th>\n",
       "      <td>2</td>\n",
       "      <td>44.5</td>\n",
       "      <td>39.3</td>\n",
       "      <td>45.1</td>\n",
       "      <td>10.4</td>\n",
       "    </tr>\n",
       "    <tr>\n",
       "      <th>2</th>\n",
       "      <td>3</td>\n",
       "      <td>17.2</td>\n",
       "      <td>45.9</td>\n",
       "      <td>69.3</td>\n",
       "      <td>9.3</td>\n",
       "    </tr>\n",
       "    <tr>\n",
       "      <th>3</th>\n",
       "      <td>4</td>\n",
       "      <td>151.5</td>\n",
       "      <td>41.3</td>\n",
       "      <td>58.5</td>\n",
       "      <td>18.5</td>\n",
       "    </tr>\n",
       "    <tr>\n",
       "      <th>4</th>\n",
       "      <td>5</td>\n",
       "      <td>180.8</td>\n",
       "      <td>10.8</td>\n",
       "      <td>58.4</td>\n",
       "      <td>12.9</td>\n",
       "    </tr>\n",
       "  </tbody>\n",
       "</table>\n",
       "</div>"
      ],
      "text/plain": [
       "   Unnamed: 0     TV  Radio  Newspaper  Sales\n",
       "0           1  230.1   37.8       69.2   22.1\n",
       "1           2   44.5   39.3       45.1   10.4\n",
       "2           3   17.2   45.9       69.3    9.3\n",
       "3           4  151.5   41.3       58.5   18.5\n",
       "4           5  180.8   10.8       58.4   12.9"
      ]
     },
     "execution_count": 3,
     "metadata": {},
     "output_type": "execute_result"
    }
   ],
   "source": [
    "df.head()"
   ]
  },
  {
   "cell_type": "code",
   "execution_count": 4,
   "id": "1ea7c520",
   "metadata": {},
   "outputs": [
    {
     "data": {
      "text/plain": [
       "(200, 5)"
      ]
     },
     "execution_count": 4,
     "metadata": {},
     "output_type": "execute_result"
    }
   ],
   "source": [
    "df.shape"
   ]
  },
  {
   "cell_type": "code",
   "execution_count": 5,
   "id": "04ec7bf2",
   "metadata": {},
   "outputs": [
    {
     "name": "stdout",
     "output_type": "stream",
     "text": [
      "<class 'pandas.core.frame.DataFrame'>\n",
      "RangeIndex: 200 entries, 0 to 199\n",
      "Data columns (total 5 columns):\n",
      " #   Column      Non-Null Count  Dtype  \n",
      "---  ------      --------------  -----  \n",
      " 0   Unnamed: 0  200 non-null    int64  \n",
      " 1   TV          200 non-null    float64\n",
      " 2   Radio       200 non-null    float64\n",
      " 3   Newspaper   200 non-null    float64\n",
      " 4   Sales       200 non-null    float64\n",
      "dtypes: float64(4), int64(1)\n",
      "memory usage: 7.9 KB\n"
     ]
    }
   ],
   "source": [
    "df.info()"
   ]
  },
  {
   "cell_type": "code",
   "execution_count": 6,
   "id": "46c10625",
   "metadata": {},
   "outputs": [
    {
     "data": {
      "text/plain": [
       "Index(['Unnamed: 0', 'TV', 'Radio', 'Newspaper', 'Sales'], dtype='object')"
      ]
     },
     "execution_count": 6,
     "metadata": {},
     "output_type": "execute_result"
    }
   ],
   "source": [
    "df.columns"
   ]
  },
  {
   "cell_type": "code",
   "execution_count": 7,
   "id": "4c828537",
   "metadata": {},
   "outputs": [
    {
     "data": {
      "text/html": [
       "<div>\n",
       "<style scoped>\n",
       "    .dataframe tbody tr th:only-of-type {\n",
       "        vertical-align: middle;\n",
       "    }\n",
       "\n",
       "    .dataframe tbody tr th {\n",
       "        vertical-align: top;\n",
       "    }\n",
       "\n",
       "    .dataframe thead th {\n",
       "        text-align: right;\n",
       "    }\n",
       "</style>\n",
       "<table border=\"1\" class=\"dataframe\">\n",
       "  <thead>\n",
       "    <tr style=\"text-align: right;\">\n",
       "      <th></th>\n",
       "      <th>Unnamed: 0</th>\n",
       "      <th>TV</th>\n",
       "      <th>Radio</th>\n",
       "      <th>Newspaper</th>\n",
       "      <th>Sales</th>\n",
       "    </tr>\n",
       "  </thead>\n",
       "  <tbody>\n",
       "    <tr>\n",
       "      <th>count</th>\n",
       "      <td>200.000000</td>\n",
       "      <td>200.000000</td>\n",
       "      <td>200.000000</td>\n",
       "      <td>200.000000</td>\n",
       "      <td>200.000000</td>\n",
       "    </tr>\n",
       "    <tr>\n",
       "      <th>mean</th>\n",
       "      <td>100.500000</td>\n",
       "      <td>147.042500</td>\n",
       "      <td>23.264000</td>\n",
       "      <td>30.554000</td>\n",
       "      <td>14.022500</td>\n",
       "    </tr>\n",
       "    <tr>\n",
       "      <th>std</th>\n",
       "      <td>57.879185</td>\n",
       "      <td>85.854236</td>\n",
       "      <td>14.846809</td>\n",
       "      <td>21.778621</td>\n",
       "      <td>5.217457</td>\n",
       "    </tr>\n",
       "    <tr>\n",
       "      <th>min</th>\n",
       "      <td>1.000000</td>\n",
       "      <td>0.700000</td>\n",
       "      <td>0.000000</td>\n",
       "      <td>0.300000</td>\n",
       "      <td>1.600000</td>\n",
       "    </tr>\n",
       "    <tr>\n",
       "      <th>25%</th>\n",
       "      <td>50.750000</td>\n",
       "      <td>74.375000</td>\n",
       "      <td>9.975000</td>\n",
       "      <td>12.750000</td>\n",
       "      <td>10.375000</td>\n",
       "    </tr>\n",
       "    <tr>\n",
       "      <th>50%</th>\n",
       "      <td>100.500000</td>\n",
       "      <td>149.750000</td>\n",
       "      <td>22.900000</td>\n",
       "      <td>25.750000</td>\n",
       "      <td>12.900000</td>\n",
       "    </tr>\n",
       "    <tr>\n",
       "      <th>75%</th>\n",
       "      <td>150.250000</td>\n",
       "      <td>218.825000</td>\n",
       "      <td>36.525000</td>\n",
       "      <td>45.100000</td>\n",
       "      <td>17.400000</td>\n",
       "    </tr>\n",
       "    <tr>\n",
       "      <th>max</th>\n",
       "      <td>200.000000</td>\n",
       "      <td>296.400000</td>\n",
       "      <td>49.600000</td>\n",
       "      <td>114.000000</td>\n",
       "      <td>27.000000</td>\n",
       "    </tr>\n",
       "  </tbody>\n",
       "</table>\n",
       "</div>"
      ],
      "text/plain": [
       "       Unnamed: 0          TV       Radio   Newspaper       Sales\n",
       "count  200.000000  200.000000  200.000000  200.000000  200.000000\n",
       "mean   100.500000  147.042500   23.264000   30.554000   14.022500\n",
       "std     57.879185   85.854236   14.846809   21.778621    5.217457\n",
       "min      1.000000    0.700000    0.000000    0.300000    1.600000\n",
       "25%     50.750000   74.375000    9.975000   12.750000   10.375000\n",
       "50%    100.500000  149.750000   22.900000   25.750000   12.900000\n",
       "75%    150.250000  218.825000   36.525000   45.100000   17.400000\n",
       "max    200.000000  296.400000   49.600000  114.000000   27.000000"
      ]
     },
     "execution_count": 7,
     "metadata": {},
     "output_type": "execute_result"
    }
   ],
   "source": [
    "df.describe()"
   ]
  },
  {
   "cell_type": "code",
   "execution_count": 8,
   "id": "a8c69df2",
   "metadata": {},
   "outputs": [
    {
     "data": {
      "text/plain": [
       "Unnamed: 0    0\n",
       "TV            0\n",
       "Radio         0\n",
       "Newspaper     0\n",
       "Sales         0\n",
       "dtype: int64"
      ]
     },
     "execution_count": 8,
     "metadata": {},
     "output_type": "execute_result"
    }
   ],
   "source": [
    "df.isnull().sum()"
   ]
  },
  {
   "cell_type": "code",
   "execution_count": 11,
   "id": "43844c84",
   "metadata": {},
   "outputs": [
    {
     "data": {
      "image/png": "[encoded data removed]",
      "text/plain": [
       "<Figure size 500x500 with 3 Axes>"
      ]
     },
     "metadata": {},
     "output_type": "display_data"
    }
   ],
   "source": [
    "fig, axs = plt.subplots(3, figsize = (5,5))\n",
    "plt1 = sns.boxplot(df['TV'],ax = axs[0])\n",
    "plt2 = sns.boxplot(df['Newspaper'],ax = axs[1])\n",
    "plt3 = sns.boxplot(df['Radio'], ax = axs[2])\n",
    "plt.tight_layout()"
   ]
  },
  {
   "cell_type": "code",
   "execution_count": 12,
   "id": "5e884c6a",
   "metadata": {},
   "outputs": [
    {
     "data": {
      "text/plain": [
       "<AxesSubplot:xlabel='Newspaper', ylabel='Density'>"
      ]
     },
     "execution_count": 12,
     "metadata": {},
     "output_type": "execute_result"
    },
    {
     "data": {
      "image/png": "[encoded data removed]",
      "text/plain": [
       "<Figure size 640x480 with 1 Axes>"
      ]
     },
     "metadata": {},
     "output_type": "display_data"
    }
   ],
   "source": [
    "sns.distplot(df['Newspaper'])"
   ]
  },
  {
   "cell_type": "code",
   "execution_count": 13,
   "id": "658a1044",
   "metadata": {},
   "outputs": [],
   "source": [
    "iqr = df.Newspaper.quantile(0.75) - df.Newspaper.quantile(0.25)"
   ]
  },
  {
   "cell_type": "code",
   "execution_count": 15,
   "id": "b217a61f",
   "metadata": {},
   "outputs": [
    {
     "name": "stdout",
     "output_type": "stream",
     "text": [
      "-35.775000000000006\n",
      "61.275000000000006\n"
     ]
    }
   ],
   "source": [
    "lower_bridge = df[\"Newspaper\"].quantile(0.25) - (iqr*1.5)\n",
    "upper_bridge = df[\"Newspaper\"].quantile(0.25) + (iqr*1.5)\n",
    "print(lower_bridge)\n",
    "print(upper_bridge)"
   ]
  },
  {
   "cell_type": "code",
   "execution_count": 17,
   "id": "2994aa38",
   "metadata": {},
   "outputs": [],
   "source": [
    "data = df.copy()"
   ]
  },
  {
   "cell_type": "code",
   "execution_count": 18,
   "id": "c613c276",
   "metadata": {},
   "outputs": [],
   "source": [
    "data.loc[data['Newspaper']>=93, 'Newspaper'] = 93"
   ]
  },
  {
   "cell_type": "code",
   "execution_count": 19,
   "id": "276aa26b",
   "metadata": {},
   "outputs": [
    {
     "data": {
      "text/plain": [
       "<AxesSubplot:xlabel='Newspaper'>"
      ]
     },
     "execution_count": 19,
     "metadata": {},
     "output_type": "execute_result"
    },
    {
     "data": {
      "image/png": "[encoded data removed]",
      "text/plain": [
       "<Figure size 640x480 with 1 Axes>"
      ]
     },
     "metadata": {},
     "output_type": "display_data"
    }
   ],
   "source": [
    "sns.boxplot(data['Newspaper'])"
   ]
  },
  {
   "cell_type": "code",
   "execution_count": 21,
   "id": "712e04f7",
   "metadata": {},
   "outputs": [
    {
     "data": {
      "text/plain": [
       "<AxesSubplot:xlabel='Sales'>"
      ]
     },
     "execution_count": 21,
     "metadata": {},
     "output_type": "execute_result"
    },
    {
     "data": {
      "image/png": "[encoded data removed]",
      "text/plain": [
       "<Figure size 640x480 with 1 Axes>"
      ]
     },
     "metadata": {},
     "output_type": "display_data"
    }
   ],
   "source": [
    "sns.boxplot(data['Sales'])"
   ]
  },
  {
   "cell_type": "code",
   "execution_count": 26,
   "id": "1fd0c92c",
   "metadata": {},
   "outputs": [
    {
     "data": {
      "image/png": "[encoded data removed]",
      "text/plain": [
       "<Figure size 1200x400 with 3 Axes>"
      ]
     },
     "metadata": {},
     "output_type": "display_data"
    }
   ],
   "source": [
    "sns.pairplot(data, x_vars = ['TV', 'Newspaper', 'Radio'], y_vars = 'Sales', height = 4, aspect = 1, kind = 'scatter')\n",
    "plt.show()"
   ]
  },
  {
   "cell_type": "code",
   "execution_count": 27,
   "id": "626d86e4",
   "metadata": {},
   "outputs": [
    {
     "data": {
      "image/png": "[encoded data removed]",
      "text/plain": [
       "<Figure size 640x480 with 2 Axes>"
      ]
     },
     "metadata": {},
     "output_type": "display_data"
    }
   ],
   "source": [
    "sns.heatmap(data.corr(), cmap = \"YlGnBu\", annot = True)\n",
    "plt.show()"
   ]
  },
  {
   "cell_type": "code",
   "execution_count": 29,
   "id": "3010767f",
   "metadata": {},
   "outputs": [],
   "source": [
    "important_features = list(df.corr()['Sales'][(df.corr()['Sales']>+0.5)|(df.corr()['Sales']<-0.5)].index)"
   ]
  },
  {
   "cell_type": "code",
   "execution_count": 31,
   "id": "079e4f73",
   "metadata": {},
   "outputs": [
    {
     "name": "stdout",
     "output_type": "stream",
     "text": [
      "['TV', 'Radio', 'Sales']\n"
     ]
    }
   ],
   "source": [
    "print(important_features)"
   ]
  },
  {
   "cell_type": "code",
   "execution_count": 32,
   "id": "ea7a2f4a",
   "metadata": {},
   "outputs": [],
   "source": [
    "x = data['TV']\n",
    "y = data['Sales']"
   ]
  },
  {
   "cell_type": "code",
   "execution_count": 33,
   "id": "48e7889a",
   "metadata": {},
   "outputs": [],
   "source": [
    "x = x.values.reshape(-1,1)"
   ]
  },
  {
   "cell_type": "code",
   "execution_count": 34,
   "id": "16f7acae",
   "metadata": {},
   "outputs": [
    {
     "data": {
      "text/plain": [
       "array([[230.1],\n",
       "       [ 44.5],\n",
       "       [ 17.2],\n",
       "       [151.5],\n",
       "       [180.8],\n",
       "       [  8.7],\n",
       "       [ 57.5],\n",
       "       [120.2],\n",
       "       [  8.6],\n",
       "       [199.8],\n",
       "       [ 66.1],\n",
       "       [214.7],\n",
       "       [ 23.8],\n",
       "       [ 97.5],\n",
       "       [204.1],\n",
       "       [195.4],\n",
       "       [ 67.8],\n",
       "       [281.4],\n",
       "       [ 69.2],\n",
       "       [147.3],\n",
       "       [218.4],\n",
       "       [237.4],\n",
       "       [ 13.2],\n",
       "       [228.3],\n",
       "       [ 62.3],\n",
       "       [262.9],\n",
       "       [142.9],\n",
       "       [240.1],\n",
       "       [248.8],\n",
       "       [ 70.6],\n",
       "       [292.9],\n",
       "       [112.9],\n",
       "       [ 97.2],\n",
       "       [265.6],\n",
       "       [ 95.7],\n",
       "       [290.7],\n",
       "       [266.9],\n",
       "       [ 74.7],\n",
       "       [ 43.1],\n",
       "       [228. ],\n",
       "       [202.5],\n",
       "       [177. ],\n",
       "       [293.6],\n",
       "       [206.9],\n",
       "       [ 25.1],\n",
       "       [175.1],\n",
       "       [ 89.7],\n",
       "       [239.9],\n",
       "       [227.2],\n",
       "       [ 66.9],\n",
       "       [199.8],\n",
       "       [100.4],\n",
       "       [216.4],\n",
       "       [182.6],\n",
       "       [262.7],\n",
       "       [198.9],\n",
       "       [  7.3],\n",
       "       [136.2],\n",
       "       [210.8],\n",
       "       [210.7],\n",
       "       [ 53.5],\n",
       "       [261.3],\n",
       "       [239.3],\n",
       "       [102.7],\n",
       "       [131.1],\n",
       "       [ 69. ],\n",
       "       [ 31.5],\n",
       "       [139.3],\n",
       "       [237.4],\n",
       "       [216.8],\n",
       "       [199.1],\n",
       "       [109.8],\n",
       "       [ 26.8],\n",
       "       [129.4],\n",
       "       [213.4],\n",
       "       [ 16.9],\n",
       "       [ 27.5],\n",
       "       [120.5],\n",
       "       [  5.4],\n",
       "       [116. ],\n",
       "       [ 76.4],\n",
       "       [239.8],\n",
       "       [ 75.3],\n",
       "       [ 68.4],\n",
       "       [213.5],\n",
       "       [193.2],\n",
       "       [ 76.3],\n",
       "       [110.7],\n",
       "       [ 88.3],\n",
       "       [109.8],\n",
       "       [134.3],\n",
       "       [ 28.6],\n",
       "       [217.7],\n",
       "       [250.9],\n",
       "       [107.4],\n",
       "       [163.3],\n",
       "       [197.6],\n",
       "       [184.9],\n",
       "       [289.7],\n",
       "       [135.2],\n",
       "       [222.4],\n",
       "       [296.4],\n",
       "       [280.2],\n",
       "       [187.9],\n",
       "       [238.2],\n",
       "       [137.9],\n",
       "       [ 25. ],\n",
       "       [ 90.4],\n",
       "       [ 13.1],\n",
       "       [255.4],\n",
       "       [225.8],\n",
       "       [241.7],\n",
       "       [175.7],\n",
       "       [209.6],\n",
       "       [ 78.2],\n",
       "       [ 75.1],\n",
       "       [139.2],\n",
       "       [ 76.4],\n",
       "       [125.7],\n",
       "       [ 19.4],\n",
       "       [141.3],\n",
       "       [ 18.8],\n",
       "       [224. ],\n",
       "       [123.1],\n",
       "       [229.5],\n",
       "       [ 87.2],\n",
       "       [  7.8],\n",
       "       [ 80.2],\n",
       "       [220.3],\n",
       "       [ 59.6],\n",
       "       [  0.7],\n",
       "       [265.2],\n",
       "       [  8.4],\n",
       "       [219.8],\n",
       "       [ 36.9],\n",
       "       [ 48.3],\n",
       "       [ 25.6],\n",
       "       [273.7],\n",
       "       [ 43. ],\n",
       "       [184.9],\n",
       "       [ 73.4],\n",
       "       [193.7],\n",
       "       [220.5],\n",
       "       [104.6],\n",
       "       [ 96.2],\n",
       "       [140.3],\n",
       "       [240.1],\n",
       "       [243.2],\n",
       "       [ 38. ],\n",
       "       [ 44.7],\n",
       "       [280.7],\n",
       "       [121. ],\n",
       "       [197.6],\n",
       "       [171.3],\n",
       "       [187.8],\n",
       "       [  4.1],\n",
       "       [ 93.9],\n",
       "       [149.8],\n",
       "       [ 11.7],\n",
       "       [131.7],\n",
       "       [172.5],\n",
       "       [ 85.7],\n",
       "       [188.4],\n",
       "       [163.5],\n",
       "       [117.2],\n",
       "       [234.5],\n",
       "       [ 17.9],\n",
       "       [206.8],\n",
       "       [215.4],\n",
       "       [284.3],\n",
       "       [ 50. ],\n",
       "       [164.5],\n",
       "       [ 19.6],\n",
       "       [168.4],\n",
       "       [222.4],\n",
       "       [276.9],\n",
       "       [248.4],\n",
       "       [170.2],\n",
       "       [276.7],\n",
       "       [165.6],\n",
       "       [156.6],\n",
       "       [218.5],\n",
       "       [ 56.2],\n",
       "       [287.6],\n",
       "       [253.8],\n",
       "       [205. ],\n",
       "       [139.5],\n",
       "       [191.1],\n",
       "       [286. ],\n",
       "       [ 18.7],\n",
       "       [ 39.5],\n",
       "       [ 75.5],\n",
       "       [ 17.2],\n",
       "       [166.8],\n",
       "       [149.7],\n",
       "       [ 38.2],\n",
       "       [ 94.2],\n",
       "       [177. ],\n",
       "       [283.6],\n",
       "       [232.1]])"
      ]
     },
     "execution_count": 34,
     "metadata": {},
     "output_type": "execute_result"
    }
   ],
   "source": [
    "x"
   ]
  },
  {
   "cell_type": "code",
   "execution_count": 35,
   "id": "b4e1fab8",
   "metadata": {},
   "outputs": [
    {
     "data": {
      "text/plain": [
       "0      22.1\n",
       "1      10.4\n",
       "2       9.3\n",
       "3      18.5\n",
       "4      12.9\n",
       "       ... \n",
       "195     7.6\n",
       "196     9.7\n",
       "197    12.8\n",
       "198    25.5\n",
       "199    13.4\n",
       "Name: Sales, Length: 200, dtype: float64"
      ]
     },
     "execution_count": 35,
     "metadata": {},
     "output_type": "execute_result"
    }
   ],
   "source": [
    "y"
   ]
  },
  {
   "cell_type": "code",
   "execution_count": 36,
   "id": "15624bc1",
   "metadata": {},
   "outputs": [
    {
     "name": "stdout",
     "output_type": "stream",
     "text": [
      "(200, 1) (200,)\n"
     ]
    }
   ],
   "source": [
    "print(x.shape, y.shape)"
   ]
  },
  {
   "cell_type": "code",
   "execution_count": 37,
   "id": "5af32cf1",
   "metadata": {},
   "outputs": [],
   "source": [
    "from sklearn.model_selection import train_test_split\n",
    "x_train, x_test, y_train, y_test = train_test_split(x,y,test_size = 0.33)"
   ]
  },
  {
   "cell_type": "code",
   "execution_count": 39,
   "id": "87315287",
   "metadata": {},
   "outputs": [
    {
     "name": "stdout",
     "output_type": "stream",
     "text": [
      "(134, 1) (134,)\n"
     ]
    }
   ],
   "source": [
    "print(x_train.shape, y_train.shape)"
   ]
  },
  {
   "cell_type": "code",
   "execution_count": 47,
   "id": "5a91f289",
   "metadata": {},
   "outputs": [],
   "source": [
    "from sklearn.metrics import mean_squared_error, r2_score\n",
    "from sklearn.model_selection import cross_val_score,GridSearchCV\n",
    "from sklearn.neighbors import KNeighborsRegressor\n",
    "from sklearn.svm import SVR\n",
    "from sklearn.tree import DecisionTreeRegressor\n",
    "from sklearn.ensemble import RandomForestRegressor"
   ]
  },
  {
   "cell_type": "code",
   "execution_count": 48,
   "id": "bbfda612",
   "metadata": {},
   "outputs": [
    {
     "data": {
      "text/plain": [
       "KNeighborsRegressor()"
      ]
     },
     "execution_count": 48,
     "metadata": {},
     "output_type": "execute_result"
    }
   ],
   "source": [
    "knn = KNeighborsRegressor().fit(x_train, y_train)\n",
    "knn"
   ]
  },
  {
   "cell_type": "code",
   "execution_count": 49,
   "id": "9cb8b71f",
   "metadata": {},
   "outputs": [],
   "source": [
    "knn_training_pred = knn.predict(x_train)"
   ]
  },
  {
   "cell_type": "code",
   "execution_count": 51,
   "id": "0e6e3d40",
   "metadata": {},
   "outputs": [],
   "source": [
    "knn_test_pred = knn.predict(x_test)"
   ]
  },
  {
   "cell_type": "code",
   "execution_count": 52,
   "id": "9890abdb",
   "metadata": {},
   "outputs": [
    {
     "name": "stdout",
     "output_type": "stream",
     "text": [
      "[18.72  7.28 16.22 14.86 13.24 22.26 18.54 19.74 11.3  14.12 13.66 21.16\n",
      " 12.32  7.52 15.22 18.72 19.74  5.96 15.1  17.54 16.28 15.22  9.98  7.52\n",
      " 11.34 15.1  13.22 13.56 20.86 20.34 19.04  9.6  18.72 17.54 16.12 15.1\n",
      "  9.6   5.96 20.86 20.72 19.58 14.12 16.12 13.88 12.66 17.02 11.44 18.54\n",
      "  9.56 12.22  7.52 11.34  8.02 10.46 19.04 15.3  16.26 16.22 20.34 19.04\n",
      "  8.8  13.24  5.96 15.62  7.52 19.04 15.18 14.12 16.28  9.8  12.24  5.96\n",
      " 16.26 19.74 15.62 11.44 11.3  17.58 16.4  19.38  8.02 20.54  5.96 12.24\n",
      " 14.86 11.44 11.44 17.68 17.18  9.8  12.48 14.06 19.58  8.02 16.02  5.58\n",
      " 18.72 15.68  9.56 18.14 10.36 19.7   9.68 20.34 16.4  10.36 19.14 18.04\n",
      "  9.6  17.58 12.48 14.48 12.24 21.16 20.72 18.32 15.6   8.02 12.24 15.9\n",
      " 16.26 12.24 20.72 15.68 10.06 14.12  7.52 11.06 16.12 16.12 13.66 11.06\n",
      "  8.08 18.14] [11.3   7.52 12.48 15.1  17.58 13.56 12.12 20.72 11.34 19.74 12.66 20.72\n",
      " 13.56 11.92 20.72 11.42 17.42 19.86 20.34 14.26  7.52 17.68  5.58 17.12\n",
      " 19.38  8.02 12.24  9.78 12.48 18.38 16.4  16.26 11.06  7.28  5.92 18.32\n",
      "  8.02 15.1  12.24 20.72 15.1  11.3  14.94  7.52 14.28 20.34 13.8  18.72\n",
      " 12.24 11.34  9.8  16.6   5.58 14.12 11.34 11.34 14.12 16.4  15.1  12.24\n",
      " 16.14 17.26 16.02 19.7  12.66 14.72]\n"
     ]
    }
   ],
   "source": [
    "print(knn_training_pred, knn_test_pred)"
   ]
  },
  {
   "cell_type": "code",
   "execution_count": 54,
   "id": "5daea64e",
   "metadata": {},
   "outputs": [],
   "source": [
    "Results = pd.DataFrame(columns = [\"Model\", \"Train R2\", \"Test RMSE\", \"Varience\"])"
   ]
  },
  {
   "cell_type": "code",
   "execution_count": 57,
   "id": "8e62397b",
   "metadata": {},
   "outputs": [
    {
     "name": "stdout",
     "output_type": "stream",
     "text": [
      "R2 0.5506885295708017\n",
      "RMSE 3.3774744015807627\n"
     ]
    }
   ],
   "source": [
    "r2 = r2_score(y_test, knn_test_pred)\n",
    "r2_train = r2_score(y_train, knn_training_pred)\n",
    "rmse = np.sqrt(mean_squared_error(y_test, knn_test_pred))\n",
    "variance = r2_train - r2\n",
    "Results = Results.append({\"Model\" : \"K-Nearest Neighbors\", \"train_R2\":r2_train,\"Test R2\": r2, \"Test RMSE\":rmse, \n",
    "                          \"Variance\":variance}, ignore_index = True)\n",
    "print(\"R2\",r2)\n",
    "print(\"RMSE\",rmse)"
   ]
  },
  {
   "cell_type": "code",
   "execution_count": 58,
   "id": "19b22766",
   "metadata": {},
   "outputs": [
    {
     "data": {
      "text/html": [
       "<div>\n",
       "<style scoped>\n",
       "    .dataframe tbody tr th:only-of-type {\n",
       "        vertical-align: middle;\n",
       "    }\n",
       "\n",
       "    .dataframe tbody tr th {\n",
       "        vertical-align: top;\n",
       "    }\n",
       "\n",
       "    .dataframe thead th {\n",
       "        text-align: right;\n",
       "    }\n",
       "</style>\n",
       "<table border=\"1\" class=\"dataframe\">\n",
       "  <thead>\n",
       "    <tr style=\"text-align: right;\">\n",
       "      <th></th>\n",
       "      <th>Model</th>\n",
       "      <th>Train R2</th>\n",
       "      <th>Test RMSE</th>\n",
       "      <th>Varience</th>\n",
       "      <th>Test R2</th>\n",
       "      <th>Variance</th>\n",
       "      <th>train_R2</th>\n",
       "    </tr>\n",
       "  </thead>\n",
       "  <tbody>\n",
       "    <tr>\n",
       "      <th>0</th>\n",
       "      <td>K-Nearest Neighbors</td>\n",
       "      <td>NaN</td>\n",
       "      <td>3.377474</td>\n",
       "      <td>NaN</td>\n",
       "      <td>0.550689</td>\n",
       "      <td>0.080977</td>\n",
       "      <td>0.631666</td>\n",
       "    </tr>\n",
       "  </tbody>\n",
       "</table>\n",
       "</div>"
      ],
      "text/plain": [
       "                 Model Train R2  Test RMSE Varience   Test R2  Variance  \\\n",
       "0  K-Nearest Neighbors      NaN   3.377474      NaN  0.550689  0.080977   \n",
       "\n",
       "   train_R2  \n",
       "0  0.631666  "
      ]
     },
     "execution_count": 58,
     "metadata": {},
     "output_type": "execute_result"
    }
   ],
   "source": [
    "Results.head()"
   ]
  },
  {
   "cell_type": "code",
   "execution_count": 59,
   "id": "9eeaaeba",
   "metadata": {},
   "outputs": [],
   "source": [
    "svr = SVR().fit(x_train, y_train)"
   ]
  },
  {
   "cell_type": "code",
   "execution_count": 60,
   "id": "b8cfc77c",
   "metadata": {},
   "outputs": [
    {
     "data": {
      "text/plain": [
       "SVR()"
      ]
     },
     "execution_count": 60,
     "metadata": {},
     "output_type": "execute_result"
    }
   ],
   "source": [
    "svr"
   ]
  },
  {
   "cell_type": "code",
   "execution_count": 63,
   "id": "a465588f",
   "metadata": {},
   "outputs": [],
   "source": [
    "svr_train_pred = svr.predict(x_train)\n",
    "svr_test_pred = svr.predict(x_test)"
   ]
  },
  {
   "cell_type": "code",
   "execution_count": 64,
   "id": "5d30a472",
   "metadata": {},
   "outputs": [
    {
     "name": "stdout",
     "output_type": "stream",
     "text": [
      "[18.41745694  8.3268355  17.24967049 12.98687016 12.27877146 18.42381985\n",
      " 16.50005625 18.49322597 11.71052719 13.38621325 13.2406133  17.7365012\n",
      " 11.3081338   8.45678992 14.84752135 18.4395822  18.49127459  8.25166701\n",
      " 14.52734016 15.72463304 15.90859401 14.9108708   9.81360044  8.45419505\n",
      " 11.58433984 14.47266648 16.88295292 13.77328045 18.47928676 17.57685733\n",
      " 18.08410326  9.99919192 18.37191463 15.72463304 16.63147822 14.65483258\n",
      " 10.09668494  8.25306078 18.48184693 18.40022122 17.45695632 13.29570476\n",
      " 16.57790624 12.6548843  12.5578022  16.36723727 10.59997177 16.50005625\n",
      "  9.34185856 11.97538734  8.41658454 11.57275031  8.63776744 10.22168723\n",
      " 17.96329693 14.74490417 17.8150593  17.19051126 17.53197546 18.07755528\n",
      "  8.86519282 12.39200908  8.24891794 15.24603499  8.41658454 17.94499916\n",
      " 15.16866613 13.34287602 15.90245593  9.12330235 10.93347187  8.23471978\n",
      " 16.10492243 17.64102915 15.24603499 10.52800899 11.66109134 17.73227195\n",
      " 18.10769398 17.39613504  8.65725683 18.48883397  8.24097955 10.79921614\n",
      " 12.96303337 10.50088686 10.53703365 17.56034653 15.58413646  9.13164101\n",
      " 12.16576007 12.89610791 17.49186074  8.72108299 17.95310113  8.21391085\n",
      " 18.42042268 17.04181314  9.33746681 16.2638688   9.40372165 17.83408555\n",
      "  9.07782367 17.43090416 18.03509385  9.41261425 17.60340826 18.17149181\n",
      "  9.93881436 17.72333305 12.16576007 13.85492299 10.816683   17.66876323\n",
      " 18.33216754 18.31409684 15.93928578  8.59978567 10.78170785 15.47473506\n",
      " 17.88168214 10.85582982 18.36747566 17.03621683  9.5746887  13.29997176\n",
      "  8.40936179 10.47369457 16.58983522 16.63147822 13.16960468 10.39629361\n",
      "  8.75944368 16.23337022] [11.69914904  8.47258519 12.19857508 14.58801607 17.70080327 13.76852309\n",
      " 11.90522832 18.37135088 11.40822043 17.6363609  12.57638379 18.36551595\n",
      " 13.65583512 11.24726702 18.35549689 10.72452498 18.17686511 17.91896511\n",
      " 17.26424412 12.75327501  8.43382784 17.54096283  8.20242113 18.34639484\n",
      " 17.39101186  8.64099289 10.80795478  9.65231268 12.07811677 18.24092336\n",
      " 18.08752901 17.8150593  10.43278072  8.32878919  8.30075754 18.31409684\n",
      "  8.6972022  13.12836104 11.01869644 18.37135088 14.46178812 11.81965582\n",
      " 15.13312915  8.47793579 16.93448681 17.39811677 12.43600906 18.37930188\n",
      " 10.85582982 11.35237818  9.18633989 16.79033489  8.18310381 13.30851847\n",
      " 11.64198484 11.43594874 13.45647767 18.04580954 13.09156222 10.85149077\n",
      " 14.10862771 17.25500513 18.00596784 17.80614304 12.54667144 14.98050467]\n"
     ]
    }
   ],
   "source": [
    "print(svr_train_pred, svr_test_pred)"
   ]
  },
  {
   "cell_type": "code",
   "execution_count": 66,
   "id": "b4647db8",
   "metadata": {},
   "outputs": [
    {
     "name": "stdout",
     "output_type": "stream",
     "text": [
      "R2 0.5892546824188257\n",
      "RMSE 3.2292719768129996\n"
     ]
    }
   ],
   "source": [
    "r2 = r2_score(y_test, svr_test_pred)\n",
    "r2_train = r2_score(y_train, svr_train_pred)\n",
    "rmse = np.sqrt(mean_squared_error(y_test, svr_test_pred))\n",
    "variance = r2_train - r2\n",
    "Results = Results.append({\"Model\" : \"K-Nearest Neighbors\", \"train_R2\":r2_train,\"Test R2\": r2, \"Test RMSE\":rmse, \n",
    "                          \"Variance\":variance}, ignore_index = True)\n",
    "print(\"R2\",r2)\n",
    "print(\"RMSE\",rmse)"
   ]
  },
  {
   "cell_type": "code",
   "execution_count": 67,
   "id": "690af865",
   "metadata": {},
   "outputs": [
    {
     "data": {
      "text/html": [
       "<div>\n",
       "<style scoped>\n",
       "    .dataframe tbody tr th:only-of-type {\n",
       "        vertical-align: middle;\n",
       "    }\n",
       "\n",
       "    .dataframe tbody tr th {\n",
       "        vertical-align: top;\n",
       "    }\n",
       "\n",
       "    .dataframe thead th {\n",
       "        text-align: right;\n",
       "    }\n",
       "</style>\n",
       "<table border=\"1\" class=\"dataframe\">\n",
       "  <thead>\n",
       "    <tr style=\"text-align: right;\">\n",
       "      <th></th>\n",
       "      <th>Model</th>\n",
       "      <th>Train R2</th>\n",
       "      <th>Test RMSE</th>\n",
       "      <th>Varience</th>\n",
       "      <th>Test R2</th>\n",
       "      <th>Variance</th>\n",
       "      <th>train_R2</th>\n",
       "    </tr>\n",
       "  </thead>\n",
       "  <tbody>\n",
       "    <tr>\n",
       "      <th>0</th>\n",
       "      <td>K-Nearest Neighbors</td>\n",
       "      <td>NaN</td>\n",
       "      <td>3.377474</td>\n",
       "      <td>NaN</td>\n",
       "      <td>0.550689</td>\n",
       "      <td>0.080977</td>\n",
       "      <td>0.631666</td>\n",
       "    </tr>\n",
       "    <tr>\n",
       "      <th>1</th>\n",
       "      <td>K-Nearest Neighbors</td>\n",
       "      <td>NaN</td>\n",
       "      <td>3.229272</td>\n",
       "      <td>NaN</td>\n",
       "      <td>0.589255</td>\n",
       "      <td>-0.010319</td>\n",
       "      <td>0.578936</td>\n",
       "    </tr>\n",
       "  </tbody>\n",
       "</table>\n",
       "</div>"
      ],
      "text/plain": [
       "                 Model Train R2  Test RMSE Varience   Test R2  Variance  \\\n",
       "0  K-Nearest Neighbors      NaN   3.377474      NaN  0.550689  0.080977   \n",
       "1  K-Nearest Neighbors      NaN   3.229272      NaN  0.589255 -0.010319   \n",
       "\n",
       "   train_R2  \n",
       "0  0.631666  \n",
       "1  0.578936  "
      ]
     },
     "execution_count": 67,
     "metadata": {},
     "output_type": "execute_result"
    }
   ],
   "source": [
    "Results.head()"
   ]
  },
  {
   "cell_type": "code",
   "execution_count": 68,
   "id": "3f5decd2",
   "metadata": {},
   "outputs": [],
   "source": [
    "import statsmodels.api as sm "
   ]
  },
  {
   "cell_type": "code",
   "execution_count": 72,
   "id": "69817231",
   "metadata": {},
   "outputs": [],
   "source": [
    "x_train_constant = sm.add_constant(x_train)"
   ]
  },
  {
   "cell_type": "code",
   "execution_count": 73,
   "id": "9db26c9d",
   "metadata": {},
   "outputs": [],
   "source": [
    "model = sm.OLS(y_train, x_train_constant).fit()"
   ]
  },
  {
   "cell_type": "code",
   "execution_count": 74,
   "id": "626a0a11",
   "metadata": {},
   "outputs": [
    {
     "data": {
      "text/plain": [
       "const    7.229583\n",
       "x1       0.047343\n",
       "dtype: float64"
      ]
     },
     "execution_count": 74,
     "metadata": {},
     "output_type": "execute_result"
    }
   ],
   "source": [
    "model.params\n"
   ]
  },
  {
   "cell_type": "code",
   "execution_count": 75,
   "id": "454f9898",
   "metadata": {},
   "outputs": [
    {
     "data": {
      "text/html": [
       "<table class=\"simpletable\">\n",
       "<caption>OLS Regression Results</caption>\n",
       "<tr>\n",
       "  <th>Dep. Variable:</th>          <td>Sales</td>      <th>  R-squared:         </th> <td>   0.599</td>\n",
       "</tr>\n",
       "<tr>\n",
       "  <th>Model:</th>                   <td>OLS</td>       <th>  Adj. R-squared:    </th> <td>   0.596</td>\n",
       "</tr>\n",
       "<tr>\n",
       "  <th>Method:</th>             <td>Least Squares</td>  <th>  F-statistic:       </th> <td>   197.4</td>\n",
       "</tr>\n",
       "<tr>\n",
       "  <th>Date:</th>             <td>Thu, 29 Jun 2023</td> <th>  Prob (F-statistic):</th> <td>5.51e-28</td>\n",
       "</tr>\n",
       "<tr>\n",
       "  <th>Time:</th>                 <td>14:28:14</td>     <th>  Log-Likelihood:    </th> <td> -351.63</td>\n",
       "</tr>\n",
       "<tr>\n",
       "  <th>No. Observations:</th>      <td>   134</td>      <th>  AIC:               </th> <td>   707.3</td>\n",
       "</tr>\n",
       "<tr>\n",
       "  <th>Df Residuals:</th>          <td>   132</td>      <th>  BIC:               </th> <td>   713.1</td>\n",
       "</tr>\n",
       "<tr>\n",
       "  <th>Df Model:</th>              <td>     1</td>      <th>                     </th>     <td> </td>   \n",
       "</tr>\n",
       "<tr>\n",
       "  <th>Covariance Type:</th>      <td>nonrobust</td>    <th>                     </th>     <td> </td>   \n",
       "</tr>\n",
       "</table>\n",
       "<table class=\"simpletable\">\n",
       "<tr>\n",
       "    <td></td>       <th>coef</th>     <th>std err</th>      <th>t</th>      <th>P>|t|</th>  <th>[0.025</th>    <th>0.975]</th>  \n",
       "</tr>\n",
       "<tr>\n",
       "  <th>const</th> <td>    7.2296</td> <td>    0.577</td> <td>   12.536</td> <td> 0.000</td> <td>    6.089</td> <td>    8.370</td>\n",
       "</tr>\n",
       "<tr>\n",
       "  <th>x1</th>    <td>    0.0473</td> <td>    0.003</td> <td>   14.049</td> <td> 0.000</td> <td>    0.041</td> <td>    0.054</td>\n",
       "</tr>\n",
       "</table>\n",
       "<table class=\"simpletable\">\n",
       "<tr>\n",
       "  <th>Omnibus:</th>       <td> 0.623</td> <th>  Durbin-Watson:     </th> <td>   1.921</td>\n",
       "</tr>\n",
       "<tr>\n",
       "  <th>Prob(Omnibus):</th> <td> 0.732</td> <th>  Jarque-Bera (JB):  </th> <td>   0.762</td>\n",
       "</tr>\n",
       "<tr>\n",
       "  <th>Skew:</th>          <td>-0.125</td> <th>  Prob(JB):          </th> <td>   0.683</td>\n",
       "</tr>\n",
       "<tr>\n",
       "  <th>Kurtosis:</th>      <td> 2.728</td> <th>  Cond. No.          </th> <td>    340.</td>\n",
       "</tr>\n",
       "</table><br/><br/>Notes:<br/>[1] Standard Errors assume that the covariance matrix of the errors is correctly specified."
      ],
      "text/plain": [
       "<class 'statsmodels.iolib.summary.Summary'>\n",
       "\"\"\"\n",
       "                            OLS Regression Results                            \n",
       "==============================================================================\n",
       "Dep. Variable:                  Sales   R-squared:                       0.599\n",
       "Model:                            OLS   Adj. R-squared:                  0.596\n",
       "Method:                 Least Squares   F-statistic:                     197.4\n",
       "Date:                Thu, 29 Jun 2023   Prob (F-statistic):           5.51e-28\n",
       "Time:                        14:28:14   Log-Likelihood:                -351.63\n",
       "No. Observations:                 134   AIC:                             707.3\n",
       "Df Residuals:                     132   BIC:                             713.1\n",
       "Df Model:                           1                                         \n",
       "Covariance Type:            nonrobust                                         \n",
       "==============================================================================\n",
       "                 coef    std err          t      P>|t|      [0.025      0.975]\n",
       "------------------------------------------------------------------------------\n",
       "const          7.2296      0.577     12.536      0.000       6.089       8.370\n",
       "x1             0.0473      0.003     14.049      0.000       0.041       0.054\n",
       "==============================================================================\n",
       "Omnibus:                        0.623   Durbin-Watson:                   1.921\n",
       "Prob(Omnibus):                  0.732   Jarque-Bera (JB):                0.762\n",
       "Skew:                          -0.125   Prob(JB):                        0.683\n",
       "Kurtosis:                       2.728   Cond. No.                         340.\n",
       "==============================================================================\n",
       "\n",
       "Notes:\n",
       "[1] Standard Errors assume that the covariance matrix of the errors is correctly specified.\n",
       "\"\"\""
      ]
     },
     "execution_count": 75,
     "metadata": {},
     "output_type": "execute_result"
    }
   ],
   "source": [
    "model.summary()"
   ]
  },
  {
   "cell_type": "code",
   "execution_count": 76,
   "id": "83fe8b75",
   "metadata": {},
   "outputs": [
    {
     "data": {
      "image/png": "[encoded data removed]",
      "text/plain": [
       "<Figure size 640x480 with 1 Axes>"
      ]
     },
     "metadata": {},
     "output_type": "display_data"
    }
   ],
   "source": [
    "plt.scatter(x_train, y_train)\n",
    "plt.plot(x_train, 6.9955 + 0.0541 * x_train, 'y')\n",
    "plt.show()"
   ]
  },
  {
   "cell_type": "code",
   "execution_count": 78,
   "id": "920a9cdb",
   "metadata": {},
   "outputs": [],
   "source": [
    "x_test_constant = sm.add_constant(x_test)\n",
    "y_pred = model.predict(x_test_constant)"
   ]
  },
  {
   "cell_type": "code",
   "execution_count": 79,
   "id": "10c0a5c5",
   "metadata": {},
   "outputs": [
    {
     "data": {
      "text/plain": [
       "array([11.83136928,  8.14804666, 12.47050624, 15.06966321, 17.63567973,\n",
       "       14.3169019 , 12.09175841, 18.59675235, 11.47629319, 17.56939887,\n",
       "       12.95814407, 18.5825493 , 14.20327755, 11.28691928, 18.55887756,\n",
       "       10.7045945 , 20.18749322, 20.552038  , 21.26219018, 13.18065842,\n",
       "        8.07703144, 17.47471191,  7.42369144, 19.86555757, 17.33268147,\n",
       "        8.41790449, 10.7945471 ,  9.5967571 , 12.31427276, 18.33162887,\n",
       "       18.09491148, 17.75877278, 10.39686189,  7.8545171 ,  7.78350188,\n",
       "       18.46892495,  8.4983884 , 13.63042146, 11.02653015, 18.59675235,\n",
       "       14.9607732 , 11.98286841, 15.51942625,  8.15751536, 16.93499625,\n",
       "       21.12962844, 12.77823885, 19.78507365, 10.84662493, 11.41001232,\n",
       "        9.09965058, 16.81663756,  7.26272362, 13.83399842, 11.76035406,\n",
       "       11.50943363, 13.99496625, 18.0380993 , 13.58781233, 10.84189058,\n",
       "       14.6435719 , 17.20958843, 17.98602148, 20.68933409, 12.92026929,\n",
       "       15.39633321])"
      ]
     },
     "execution_count": 79,
     "metadata": {},
     "output_type": "execute_result"
    }
   ],
   "source": [
    "y_pred"
   ]
  },
  {
   "cell_type": "code",
   "execution_count": 81,
   "id": "cfc38bd3",
   "metadata": {},
   "outputs": [],
   "source": [
    "from sklearn.metrics import mean_squared_error\n",
    "from sklearn.metrics import r2_score"
   ]
  },
  {
   "cell_type": "code",
   "execution_count": 82,
   "id": "a136e6d2",
   "metadata": {},
   "outputs": [
    {
     "data": {
      "text/plain": [
       "3.054396971038122"
      ]
     },
     "execution_count": 82,
     "metadata": {},
     "output_type": "execute_result"
    }
   ],
   "source": [
    "np.sqrt(mean_squared_error(y_test, y_pred))"
   ]
  },
  {
   "cell_type": "code",
   "execution_count": 83,
   "id": "8fab9937",
   "metadata": {},
   "outputs": [],
   "source": [
    "r2 = r2_score(y_test, y_pred)"
   ]
  },
  {
   "cell_type": "code",
   "execution_count": 84,
   "id": "da72f92e",
   "metadata": {},
   "outputs": [
    {
     "data": {
      "text/plain": [
       "0.6325363925147711"
      ]
     },
     "execution_count": 84,
     "metadata": {},
     "output_type": "execute_result"
    }
   ],
   "source": [
    "r2"
   ]
  },
  {
   "cell_type": "code",
   "execution_count": 85,
   "id": "166cb4f6",
   "metadata": {},
   "outputs": [
    {
     "data": {
      "image/png": "[encoded data removed]",
      "text/plain": [
       "<Figure size 640x480 with 1 Axes>"
      ]
     },
     "metadata": {},
     "output_type": "display_data"
    }
   ],
   "source": [
    "plt.scatter(x_test, y_test)\n",
    "plt.plot(x_test, 6.9955 + 0.0541 * x_test, 'y')\n",
    "plt.show()"
   ]
  },
  {
   "cell_type": "code",
   "execution_count": null,
   "id": "467d6ef7",
   "metadata": {},
   "outputs": [],
   "source": []
  }
 ],
 "metadata": {
  "kernelspec": {
   "display_name": "Python 3 (ipykernel)",
   "language": "python",
   "name": "python3"
  },
  "language_info": {
   "codemirror_mode": {
    "name": "ipython",
    "version": 3
   },
   "file_extension": ".py",
   "mimetype": "text/x-python",
   "name": "python",
   "nbconvert_exporter": "python",
   "pygments_lexer": "ipython3",
   "version": "3.9.13"
  }
 },
 "nbformat": 4,
 "nbformat_minor": 5
}
